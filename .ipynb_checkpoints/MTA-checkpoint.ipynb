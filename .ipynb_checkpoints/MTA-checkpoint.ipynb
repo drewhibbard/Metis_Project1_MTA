{
 "cells": [
  {
   "cell_type": "code",
   "execution_count": null,
   "metadata": {},
   "outputs": [],
   "source": [
    "import pandas as pd\n",
    "import numpy as np\n",
    "import mta"
   ]
  },
  {
   "cell_type": "code",
   "execution_count": null,
   "metadata": {},
   "outputs": [],
   "source": [
    "def load_mta(start,end):\n",
    "    '''\n",
    "    Takes data from the MTA website and loads it into a Pandas DataFrame.  Input\n",
    "    your required years and date ranges in the download_dates variable and the function will obtain all\n",
    "    files between those dates and concatenate them into a single dataframe.\n",
    "    \n",
    "    Should be string format YYYY-MM-DD\n",
    "    '''\n",
    "    \n",
    "    download_dates = pd.date_range(start=start,end=end,freq='W-SAT')\n",
    "    download_dates = download_dates.astype(str)\n",
    "    \n",
    "    base_url = (\"http://web.mta.info/developers/data/nyct/turnstile/turnstile_{}.txt\")\n",
    "    list_of_url = [base_url.format(date[2:4]+date[5:7]+date[8:]) for date in download_dates]\n",
    "    \n",
    "    mta = pd.concat((pd.read_csv(url) for url in list_of_url))\n",
    "    return mta\n",
    "\n",
    "mta = pd.concat([load_mta('2015-08-01','2015-09-30'),load_mta('2016-08-01','2016-09-30'),\n",
    "                 load_mta('2017-08-01','2017-09-30'),load_mta('2018-08-01','2018-09-30'),\n",
    "                 load_mta('2019-08-01','2019-09-30')])\n",
    "\n",
    "mta.head()          "
   ]
  },
  {
   "cell_type": "code",
   "execution_count": null,
   "metadata": {},
   "outputs": [],
   "source": [
    "import numpy as np\n",
    "\n",
    "def clean_mta(mta):\n",
    "    # convert date and time fields into a single datetime field\n",
    "    mta['datetime'] = mta.DATE + ' ' + mta.TIME  \n",
    "    mta.datetime = pd.to_datetime(mta.datetime)\n",
    "    mta = mta.drop(['DATE','TIME'],axis=1)\n",
    "    \n",
    "    # get hour and day of week from the datetime field\n",
    "    mta['hour'] = mta.datetime.dt.hour  \n",
    "    mta['day_of_week'] = mta.datetime.dt.dayofweek.map(\n",
    "        {0:'M',1:'Tu',2:'W',3:'Th',4:'F',5:'Sa',6:'Su'})\n",
    "    \n",
    "    mta = mta[mta.DESC=='REGULAR'] # eliminate irregular audit data\n",
    "    \n",
    "    # sort values by turnstile and datetime so that the riders calculation runs smoothly\n",
    "    mta = mta.sort_values(['STATION','C/A','UNIT','SCP','datetime']).reset_index(drop=True)\n",
    "    \n",
    "    # calculate ridership per time unit based on cumulative values\n",
    "    # convert all instances of the first time period to null\n",
    "    mta['riders_in'] = mta.ENTRIES.diff()\n",
    "    mta['match'] = mta.SCP.eq(mta.SCP.shift())\n",
    "    mta.loc[mta.match==False,'riders_in'] = np.nan\n",
    "    return mta\n",
    "\n",
    "mta = clean_mta(mta)\n",
    "mta.head()"
   ]
  },
  {
   "cell_type": "code",
   "execution_count": null,
   "metadata": {},
   "outputs": [],
   "source": [
    "mta = mta[(mta.riders_in<20000) & (mta.riders_in>0)]\n",
    "mta.STATION.nunique()"
   ]
  },
  {
   "cell_type": "code",
   "execution_count": null,
   "metadata": {},
   "outputs": [],
   "source": [
    "mta.loc[mta.STATION=='42 ST-GRD CNTRL','STATION'] = 'GRD CNTRL-42 ST'\n",
    "mta.loc[mta.STATION=='42 ST-TIMES SQ','STATION'] = 'TIMES SQ-42 ST'\n",
    "mta.loc[mta.STATION=='59 ST COLUMBUS','STATION'] = '59 ST-COLUMBUS'\n",
    "mta.loc[mta.STATION=='MAIN ST','STATION'] = 'FLUSHING-MAIN'\n",
    "mta.loc[mta.STATION=='47-50 STS ROCK','STATION'] = '47-50 ST-ROCK'\n",
    "mta.loc[mta.STATION=='42 ST-PA BUS TE','STATION'] = '42 ST-PORT AUTH'\n",
    "mta.loc[mta.STATION=='14 ST-6 AVE','STATION'] = '14 ST'\n",
    "mta.STATION.nunique()"
   ]
  },
  {
   "cell_type": "code",
   "execution_count": null,
   "metadata": {},
   "outputs": [],
   "source": [
    "import matplotlib.pyplot as plt\n",
    "import seaborn as sns\n",
    "%matplotlib inline\n",
    "sns.set()"
   ]
  },
  {
   "cell_type": "code",
   "execution_count": null,
   "metadata": {},
   "outputs": [],
   "source": [
    "mta['date'] = mta.datetime.dt.date"
   ]
  },
  {
   "cell_type": "code",
   "execution_count": null,
   "metadata": {},
   "outputs": [],
   "source": [
    "by_date = pd.DataFrame(mta.groupby(['STATION','date'])['riders_in'].sum().reset_index())"
   ]
  },
  {
   "cell_type": "code",
   "execution_count": null,
   "metadata": {},
   "outputs": [],
   "source": [
    "by_station = pd.DataFrame(by_date.groupby('STATION').riders_in.mean().sort_values(ascending=False).head(15))"
   ]
  },
  {
   "cell_type": "code",
   "execution_count": null,
   "metadata": {
    "scrolled": true
   },
   "outputs": [],
   "source": [
    "plt.figure(figsize=(8,8))\n",
    "sns.barplot(y=by_station.index,x='riders_in',data=by_station)\n",
    "plt.xlabel('Station')\n",
    "plt.ylabel('Average Daily Passengers')\n",
    "plt.title('Top 15 Stations by Average Daily Passengers',fontsize=25)\n",
    "plt.savefig('top15.png',dpi=500);"
   ]
  },
  {
   "cell_type": "code",
   "execution_count": null,
   "metadata": {},
   "outputs": [],
   "source": [
    "by_station.index"
   ]
  },
  {
   "cell_type": "code",
   "execution_count": null,
   "metadata": {},
   "outputs": [],
   "source": [
    "mta = mta.loc[mta['STATION'].isin(by_station.index)]"
   ]
  },
  {
   "cell_type": "code",
   "execution_count": null,
   "metadata": {},
   "outputs": [],
   "source": [
    "reorder_list = ['M','Tu','W','Th','F','Sa','Su']\n",
    "by_weekday_date = pd.DataFrame(mta.groupby(['day_of_week','date']).riders_in.sum()).reset_index()\n",
    "by_weekday = pd.DataFrame(by_weekday_date.groupby('day_of_week').riders_in.mean().sort_values(ascending=False).head(20)).reindex(reorder_list)"
   ]
  },
  {
   "cell_type": "code",
   "execution_count": null,
   "metadata": {},
   "outputs": [],
   "source": [
    "by_weekday_date"
   ]
  },
  {
   "cell_type": "code",
   "execution_count": null,
   "metadata": {},
   "outputs": [],
   "source": [
    "plt.figure(figsize=(10,5))\n",
    "sns.barplot(x=by_weekday.index,y='riders_in',data=by_weekday)\n",
    "plt.xlabel('Day of Week')\n",
    "plt.ylabel('Average Daily Riders (millions)')\n",
    "plt.title('Average Riders by Day of Week, 2015-2019',fontsize=25);"
   ]
  },
  {
   "cell_type": "code",
   "execution_count": null,
   "metadata": {},
   "outputs": [],
   "source": [
    "plt.figure(figsize=(10,5))\n",
    "sns.boxplot(x='day_of_week',y='riders_in',data=by_weekday_date,order=['M','Tu','W','Th','F','Sa','Su'])\n",
    "plt.xlabel('Day of Week')\n",
    "plt.ylabel('Number of Daily Passengers (millions)')\n",
    "plt.title('Distribution of Daily Passengers by Day of Week',fontsize=24)\n",
    "plt.ylim(0,2000000)\n",
    "plt.savefig('dayofweek.png',dpi=500);"
   ]
  },
  {
   "cell_type": "code",
   "execution_count": null,
   "metadata": {},
   "outputs": [],
   "source": [
    "mta['time'] = pd.cut(mta.hour,bins=np.linspace(0,24,7))"
   ]
  },
  {
   "cell_type": "code",
   "execution_count": null,
   "metadata": {},
   "outputs": [],
   "source": [
    "by_time_date = pd.DataFrame(mta.groupby(['time','date']).riders_in.sum()).reset_index()\n",
    "by_time = pd.DataFrame(by_time_date.groupby('time').riders_in.mean().sort_values(ascending=False).head(20))\n",
    "by_time"
   ]
  },
  {
   "cell_type": "code",
   "execution_count": null,
   "metadata": {},
   "outputs": [],
   "source": [
    "plt.figure(figsize=(10,5))\n",
    "sns.barplot(x=by_time.index,y='riders_in',data=by_time)\n",
    "plt.xlabel('Time Range (hour)')\n",
    "plt.ylabel('Average Passengers')\n",
    "plt.title('Average Daily Passengers per 4-hour Time Window',fontsize=25)\n",
    "plt.ticklabel_format(style='plain',axis='y')\n",
    "plt.savefig('byhour.png',dpi=500);"
   ]
  },
  {
   "cell_type": "code",
   "execution_count": null,
   "metadata": {},
   "outputs": [],
   "source": [
    "by_station"
   ]
  },
  {
   "cell_type": "code",
   "execution_count": null,
   "metadata": {},
   "outputs": [],
   "source": [
    "by_station.to_csv('by_station.csv')"
   ]
  },
  {
   "cell_type": "code",
   "execution_count": null,
   "metadata": {},
   "outputs": [],
   "source": []
  }
 ],
 "metadata": {
  "kernelspec": {
   "display_name": "Python 3",
   "language": "python",
   "name": "python3"
  },
  "language_info": {
   "codemirror_mode": {
    "name": "ipython",
    "version": 3
   },
   "file_extension": ".py",
   "mimetype": "text/x-python",
   "name": "python",
   "nbconvert_exporter": "python",
   "pygments_lexer": "ipython3",
   "version": "3.8.2"
  }
 },
 "nbformat": 4,
 "nbformat_minor": 4
}
