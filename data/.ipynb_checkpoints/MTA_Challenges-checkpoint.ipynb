{
 "cells": [
  {
   "cell_type": "markdown",
   "metadata": {},
   "source": [
    "# MTA Challenges\n",
    "\n",
    "### Challenge 1"
   ]
  },
  {
   "cell_type": "code",
   "execution_count": 1,
   "metadata": {},
   "outputs": [],
   "source": [
    "import pandas as pd\n",
    "\n",
    "download_dates = pd.date_range(start='2018-09-01',end='2018-09-30',freq='W-SAT')\n",
    "download_dates = download_dates.astype(str)\n",
    "\n",
    "base_url = (\"http://web.mta.info/developers/data/nyct/turnstile/turnstile_{}.txt\")\n",
    "\n",
    "list_of_url = [base_url.format(date[2:4]+date[5:7]+date[8:]) for date in download_dates]\n",
    "\n",
    "mta = pd.concat((pd.read_csv(url) for url in list_of_url))"
   ]
  },
  {
   "cell_type": "code",
   "execution_count": 2,
   "metadata": {},
   "outputs": [
    {
     "data": {
      "text/html": [
       "<div>\n",
       "<style scoped>\n",
       "    .dataframe tbody tr th:only-of-type {\n",
       "        vertical-align: middle;\n",
       "    }\n",
       "\n",
       "    .dataframe tbody tr th {\n",
       "        vertical-align: top;\n",
       "    }\n",
       "\n",
       "    .dataframe thead th {\n",
       "        text-align: right;\n",
       "    }\n",
       "</style>\n",
       "<table border=\"1\" class=\"dataframe\">\n",
       "  <thead>\n",
       "    <tr style=\"text-align: right;\">\n",
       "      <th></th>\n",
       "      <th>C/A</th>\n",
       "      <th>UNIT</th>\n",
       "      <th>SCP</th>\n",
       "      <th>STATION</th>\n",
       "      <th>LINENAME</th>\n",
       "      <th>DIVISION</th>\n",
       "      <th>DATE</th>\n",
       "      <th>TIME</th>\n",
       "      <th>DESC</th>\n",
       "      <th>ENTRIES</th>\n",
       "      <th>EXITS</th>\n",
       "    </tr>\n",
       "  </thead>\n",
       "  <tbody>\n",
       "    <tr>\n",
       "      <th>0</th>\n",
       "      <td>A002</td>\n",
       "      <td>R051</td>\n",
       "      <td>02-00-00</td>\n",
       "      <td>59 ST</td>\n",
       "      <td>NQR456W</td>\n",
       "      <td>BMT</td>\n",
       "      <td>08/25/2018</td>\n",
       "      <td>00:00:00</td>\n",
       "      <td>REGULAR</td>\n",
       "      <td>6736067</td>\n",
       "      <td>2283184</td>\n",
       "    </tr>\n",
       "    <tr>\n",
       "      <th>1</th>\n",
       "      <td>A002</td>\n",
       "      <td>R051</td>\n",
       "      <td>02-00-00</td>\n",
       "      <td>59 ST</td>\n",
       "      <td>NQR456W</td>\n",
       "      <td>BMT</td>\n",
       "      <td>08/25/2018</td>\n",
       "      <td>04:00:00</td>\n",
       "      <td>REGULAR</td>\n",
       "      <td>6736087</td>\n",
       "      <td>2283188</td>\n",
       "    </tr>\n",
       "    <tr>\n",
       "      <th>2</th>\n",
       "      <td>A002</td>\n",
       "      <td>R051</td>\n",
       "      <td>02-00-00</td>\n",
       "      <td>59 ST</td>\n",
       "      <td>NQR456W</td>\n",
       "      <td>BMT</td>\n",
       "      <td>08/25/2018</td>\n",
       "      <td>08:00:00</td>\n",
       "      <td>REGULAR</td>\n",
       "      <td>6736105</td>\n",
       "      <td>2283229</td>\n",
       "    </tr>\n",
       "    <tr>\n",
       "      <th>3</th>\n",
       "      <td>A002</td>\n",
       "      <td>R051</td>\n",
       "      <td>02-00-00</td>\n",
       "      <td>59 ST</td>\n",
       "      <td>NQR456W</td>\n",
       "      <td>BMT</td>\n",
       "      <td>08/25/2018</td>\n",
       "      <td>12:00:00</td>\n",
       "      <td>REGULAR</td>\n",
       "      <td>6736180</td>\n",
       "      <td>2283314</td>\n",
       "    </tr>\n",
       "    <tr>\n",
       "      <th>4</th>\n",
       "      <td>A002</td>\n",
       "      <td>R051</td>\n",
       "      <td>02-00-00</td>\n",
       "      <td>59 ST</td>\n",
       "      <td>NQR456W</td>\n",
       "      <td>BMT</td>\n",
       "      <td>08/25/2018</td>\n",
       "      <td>16:00:00</td>\n",
       "      <td>REGULAR</td>\n",
       "      <td>6736349</td>\n",
       "      <td>2283384</td>\n",
       "    </tr>\n",
       "  </tbody>\n",
       "</table>\n",
       "</div>"
      ],
      "text/plain": [
       "    C/A  UNIT       SCP STATION LINENAME DIVISION        DATE      TIME  \\\n",
       "0  A002  R051  02-00-00   59 ST  NQR456W      BMT  08/25/2018  00:00:00   \n",
       "1  A002  R051  02-00-00   59 ST  NQR456W      BMT  08/25/2018  04:00:00   \n",
       "2  A002  R051  02-00-00   59 ST  NQR456W      BMT  08/25/2018  08:00:00   \n",
       "3  A002  R051  02-00-00   59 ST  NQR456W      BMT  08/25/2018  12:00:00   \n",
       "4  A002  R051  02-00-00   59 ST  NQR456W      BMT  08/25/2018  16:00:00   \n",
       "\n",
       "      DESC  ENTRIES  \\\n",
       "0  REGULAR  6736067   \n",
       "1  REGULAR  6736087   \n",
       "2  REGULAR  6736105   \n",
       "3  REGULAR  6736180   \n",
       "4  REGULAR  6736349   \n",
       "\n",
       "   EXITS                                                                 \n",
       "0                                            2283184                     \n",
       "1                                            2283188                     \n",
       "2                                            2283229                     \n",
       "3                                            2283314                     \n",
       "4                                            2283384                     "
      ]
     },
     "execution_count": 2,
     "metadata": {},
     "output_type": "execute_result"
    }
   ],
   "source": [
    "mta.head()"
   ]
  },
  {
   "cell_type": "markdown",
   "metadata": {},
   "source": [
    "### Challenge 2"
   ]
  },
  {
   "cell_type": "code",
   "execution_count": 3,
   "metadata": {},
   "outputs": [],
   "source": [
    "mta['datetime'] = mta.DATE + ' ' + mta.TIME\n",
    "\n",
    "mta.datetime = pd.to_datetime(mta.datetime)\n",
    "\n",
    "mta = mta.drop(['DATE','TIME'],axis=1)"
   ]
  },
  {
   "cell_type": "code",
   "execution_count": 4,
   "metadata": {},
   "outputs": [
    {
     "data": {
      "text/plain": [
       "C/A                                                                             object\n",
       "UNIT                                                                            object\n",
       "SCP                                                                             object\n",
       "STATION                                                                         object\n",
       "LINENAME                                                                        object\n",
       "DIVISION                                                                        object\n",
       "DESC                                                                            object\n",
       "ENTRIES                                                                          int64\n",
       "EXITS                                                                            int64\n",
       "datetime                                                                datetime64[ns]\n",
       "dtype: object"
      ]
     },
     "execution_count": 4,
     "metadata": {},
     "output_type": "execute_result"
    }
   ],
   "source": [
    "mta.dtypes"
   ]
  },
  {
   "cell_type": "markdown",
   "metadata": {},
   "source": [
    "### Challenge 3"
   ]
  },
  {
   "cell_type": "code",
   "execution_count": 5,
   "metadata": {},
   "outputs": [],
   "source": [
    "mta['turnstile'] = mta['C/A']+mta.UNIT+mta.SCP+mta.STATION"
   ]
  },
  {
   "cell_type": "code",
   "execution_count": 7,
   "metadata": {},
   "outputs": [
    {
     "data": {
      "text/html": [
       "<div>\n",
       "<style scoped>\n",
       "    .dataframe tbody tr th:only-of-type {\n",
       "        vertical-align: middle;\n",
       "    }\n",
       "\n",
       "    .dataframe tbody tr th {\n",
       "        vertical-align: top;\n",
       "    }\n",
       "\n",
       "    .dataframe thead th {\n",
       "        text-align: right;\n",
       "    }\n",
       "</style>\n",
       "<table border=\"1\" class=\"dataframe\">\n",
       "  <thead>\n",
       "    <tr style=\"text-align: right;\">\n",
       "      <th></th>\n",
       "      <th>C/A</th>\n",
       "      <th>UNIT</th>\n",
       "      <th>SCP</th>\n",
       "      <th>STATION</th>\n",
       "      <th>LINENAME</th>\n",
       "      <th>DIVISION</th>\n",
       "      <th>DESC</th>\n",
       "      <th>ENTRIES</th>\n",
       "      <th>EXITS</th>\n",
       "      <th>datetime</th>\n",
       "      <th>turnstile</th>\n",
       "      <th>riders_in</th>\n",
       "      <th>match</th>\n",
       "    </tr>\n",
       "  </thead>\n",
       "  <tbody>\n",
       "    <tr>\n",
       "      <th>1</th>\n",
       "      <td>A002</td>\n",
       "      <td>R051</td>\n",
       "      <td>02-00-00</td>\n",
       "      <td>59 ST</td>\n",
       "      <td>NQR456W</td>\n",
       "      <td>BMT</td>\n",
       "      <td>REGULAR</td>\n",
       "      <td>6736087</td>\n",
       "      <td>2283188</td>\n",
       "      <td>2018-08-25 04:00:00</td>\n",
       "      <td>A002R05102-00-0059 ST</td>\n",
       "      <td>20.0</td>\n",
       "      <td>True</td>\n",
       "    </tr>\n",
       "    <tr>\n",
       "      <th>2</th>\n",
       "      <td>A002</td>\n",
       "      <td>R051</td>\n",
       "      <td>02-00-00</td>\n",
       "      <td>59 ST</td>\n",
       "      <td>NQR456W</td>\n",
       "      <td>BMT</td>\n",
       "      <td>REGULAR</td>\n",
       "      <td>6736105</td>\n",
       "      <td>2283229</td>\n",
       "      <td>2018-08-25 08:00:00</td>\n",
       "      <td>A002R05102-00-0059 ST</td>\n",
       "      <td>18.0</td>\n",
       "      <td>True</td>\n",
       "    </tr>\n",
       "    <tr>\n",
       "      <th>3</th>\n",
       "      <td>A002</td>\n",
       "      <td>R051</td>\n",
       "      <td>02-00-00</td>\n",
       "      <td>59 ST</td>\n",
       "      <td>NQR456W</td>\n",
       "      <td>BMT</td>\n",
       "      <td>REGULAR</td>\n",
       "      <td>6736180</td>\n",
       "      <td>2283314</td>\n",
       "      <td>2018-08-25 12:00:00</td>\n",
       "      <td>A002R05102-00-0059 ST</td>\n",
       "      <td>75.0</td>\n",
       "      <td>True</td>\n",
       "    </tr>\n",
       "    <tr>\n",
       "      <th>4</th>\n",
       "      <td>A002</td>\n",
       "      <td>R051</td>\n",
       "      <td>02-00-00</td>\n",
       "      <td>59 ST</td>\n",
       "      <td>NQR456W</td>\n",
       "      <td>BMT</td>\n",
       "      <td>REGULAR</td>\n",
       "      <td>6736349</td>\n",
       "      <td>2283384</td>\n",
       "      <td>2018-08-25 16:00:00</td>\n",
       "      <td>A002R05102-00-0059 ST</td>\n",
       "      <td>169.0</td>\n",
       "      <td>True</td>\n",
       "    </tr>\n",
       "    <tr>\n",
       "      <th>5</th>\n",
       "      <td>A002</td>\n",
       "      <td>R051</td>\n",
       "      <td>02-00-00</td>\n",
       "      <td>59 ST</td>\n",
       "      <td>NQR456W</td>\n",
       "      <td>BMT</td>\n",
       "      <td>REGULAR</td>\n",
       "      <td>6736562</td>\n",
       "      <td>2283425</td>\n",
       "      <td>2018-08-25 20:00:00</td>\n",
       "      <td>A002R05102-00-0059 ST</td>\n",
       "      <td>213.0</td>\n",
       "      <td>True</td>\n",
       "    </tr>\n",
       "  </tbody>\n",
       "</table>\n",
       "</div>"
      ],
      "text/plain": [
       "    C/A  UNIT       SCP STATION LINENAME DIVISION     DESC  ENTRIES  \\\n",
       "1  A002  R051  02-00-00   59 ST  NQR456W      BMT  REGULAR  6736087   \n",
       "2  A002  R051  02-00-00   59 ST  NQR456W      BMT  REGULAR  6736105   \n",
       "3  A002  R051  02-00-00   59 ST  NQR456W      BMT  REGULAR  6736180   \n",
       "4  A002  R051  02-00-00   59 ST  NQR456W      BMT  REGULAR  6736349   \n",
       "5  A002  R051  02-00-00   59 ST  NQR456W      BMT  REGULAR  6736562   \n",
       "\n",
       "   EXITS                                                                 \\\n",
       "1                                            2283188                      \n",
       "2                                            2283229                      \n",
       "3                                            2283314                      \n",
       "4                                            2283384                      \n",
       "5                                            2283425                      \n",
       "\n",
       "             datetime              turnstile  riders_in  match  \n",
       "1 2018-08-25 04:00:00  A002R05102-00-0059 ST       20.0   True  \n",
       "2 2018-08-25 08:00:00  A002R05102-00-0059 ST       18.0   True  \n",
       "3 2018-08-25 12:00:00  A002R05102-00-0059 ST       75.0   True  \n",
       "4 2018-08-25 16:00:00  A002R05102-00-0059 ST      169.0   True  \n",
       "5 2018-08-25 20:00:00  A002R05102-00-0059 ST      213.0   True  "
      ]
     },
     "execution_count": 7,
     "metadata": {},
     "output_type": "execute_result"
    }
   ],
   "source": [
    "mta = mta.sort_values(['C/A','STATION','UNIT','SCP','datetime']).reset_index(drop=True)\n",
    "recover = mta[mta.DESC!='REGULAR']\n",
    "mta = mta[mta.DESC=='REGULAR']\n",
    "\n",
    "mta['riders_in'] = mta.ENTRIES.diff()\n",
    "\n",
    "mta['match'] = mta.SCP.eq(mta.SCP.shift())\n",
    "\n",
    "import numpy as np\n",
    "mta.loc[mta.match==False,'riders_in'] = np.nan\n",
    "mta = mta[(mta.riders_in>0) & (mta.riders_in<2400)]\n",
    "mta.head()"
   ]
  },
  {
   "cell_type": "code",
   "execution_count": 8,
   "metadata": {},
   "outputs": [],
   "source": [
    "mta.drop('match',inplace=True,axis=1)"
   ]
  },
  {
   "cell_type": "code",
   "execution_count": 9,
   "metadata": {},
   "outputs": [],
   "source": [
    "mta['date'] = mta.datetime.dt.date\n",
    "mta['hour'] = mta.datetime.dt.hour"
   ]
  },
  {
   "cell_type": "code",
   "execution_count": 10,
   "metadata": {},
   "outputs": [
    {
     "data": {
      "text/html": [
       "<div>\n",
       "<style scoped>\n",
       "    .dataframe tbody tr th:only-of-type {\n",
       "        vertical-align: middle;\n",
       "    }\n",
       "\n",
       "    .dataframe tbody tr th {\n",
       "        vertical-align: top;\n",
       "    }\n",
       "\n",
       "    .dataframe thead th {\n",
       "        text-align: right;\n",
       "    }\n",
       "</style>\n",
       "<table border=\"1\" class=\"dataframe\">\n",
       "  <thead>\n",
       "    <tr style=\"text-align: right;\">\n",
       "      <th></th>\n",
       "      <th>turnstile</th>\n",
       "      <th>date</th>\n",
       "      <th>riders_in</th>\n",
       "    </tr>\n",
       "  </thead>\n",
       "  <tbody>\n",
       "    <tr>\n",
       "      <th>0</th>\n",
       "      <td>A002R05102-00-0059 ST</td>\n",
       "      <td>2018-08-25</td>\n",
       "      <td>495.0</td>\n",
       "    </tr>\n",
       "    <tr>\n",
       "      <th>1</th>\n",
       "      <td>A002R05102-00-0059 ST</td>\n",
       "      <td>2018-08-26</td>\n",
       "      <td>505.0</td>\n",
       "    </tr>\n",
       "    <tr>\n",
       "      <th>2</th>\n",
       "      <td>A002R05102-00-0059 ST</td>\n",
       "      <td>2018-08-27</td>\n",
       "      <td>1190.0</td>\n",
       "    </tr>\n",
       "    <tr>\n",
       "      <th>3</th>\n",
       "      <td>A002R05102-00-0059 ST</td>\n",
       "      <td>2018-08-28</td>\n",
       "      <td>1373.0</td>\n",
       "    </tr>\n",
       "    <tr>\n",
       "      <th>4</th>\n",
       "      <td>A002R05102-00-0059 ST</td>\n",
       "      <td>2018-08-29</td>\n",
       "      <td>1258.0</td>\n",
       "    </tr>\n",
       "  </tbody>\n",
       "</table>\n",
       "</div>"
      ],
      "text/plain": [
       "               turnstile        date  riders_in\n",
       "0  A002R05102-00-0059 ST  2018-08-25      495.0\n",
       "1  A002R05102-00-0059 ST  2018-08-26      505.0\n",
       "2  A002R05102-00-0059 ST  2018-08-27     1190.0\n",
       "3  A002R05102-00-0059 ST  2018-08-28     1373.0\n",
       "4  A002R05102-00-0059 ST  2018-08-29     1258.0"
      ]
     },
     "execution_count": 10,
     "metadata": {},
     "output_type": "execute_result"
    }
   ],
   "source": [
    "by_turnstile = pd.DataFrame(mta.groupby(['turnstile','date']).riders_in.sum().reset_index())\n",
    "by_turnstile.head()"
   ]
  },
  {
   "cell_type": "markdown",
   "metadata": {},
   "source": [
    "### Challenge 4"
   ]
  },
  {
   "cell_type": "code",
   "execution_count": 11,
   "metadata": {},
   "outputs": [],
   "source": [
    "import matplotlib.pyplot as plt\n",
    "%matplotlib inline\n",
    "import seaborn as sns\n",
    "sns.set()"
   ]
  },
  {
   "cell_type": "code",
   "execution_count": 12,
   "metadata": {},
   "outputs": [
    {
     "data": {
      "image/png": "[encoded data removed]",
      "text/plain": [
       "<Figure size 864x432 with 1 Axes>"
      ]
     },
     "metadata": {},
     "output_type": "display_data"
    }
   ],
   "source": [
    "turn_one = by_turnstile[by_turnstile.turnstile=='A002R05102-00-0059 ST']\n",
    "plt.figure(figsize=(12,6))\n",
    "plt.plot(turn_one.date,turn_one.riders_in)\n",
    "plt.xlabel('Date')\n",
    "plt.ylabel('Riders')\n",
    "plt.title('Turnstile A002R05102-00-00 on 59th Street')\n",
    "plt.ylim(0,1600);"
   ]
  },
  {
   "cell_type": "markdown",
   "metadata": {},
   "source": [
    "### Challenge 5"
   ]
  },
  {
   "cell_type": "code",
   "execution_count": 15,
   "metadata": {},
   "outputs": [
    {
     "data": {
      "text/html": [
       "<div>\n",
       "<style scoped>\n",
       "    .dataframe tbody tr th:only-of-type {\n",
       "        vertical-align: middle;\n",
       "    }\n",
       "\n",
       "    .dataframe tbody tr th {\n",
       "        vertical-align: top;\n",
       "    }\n",
       "\n",
       "    .dataframe thead th {\n",
       "        text-align: right;\n",
       "    }\n",
       "</style>\n",
       "<table border=\"1\" class=\"dataframe\">\n",
       "  <thead>\n",
       "    <tr style=\"text-align: right;\">\n",
       "      <th></th>\n",
       "      <th></th>\n",
       "      <th></th>\n",
       "      <th>riders_in</th>\n",
       "    </tr>\n",
       "    <tr>\n",
       "      <th>C/A</th>\n",
       "      <th>UNIT</th>\n",
       "      <th>STATION</th>\n",
       "      <th></th>\n",
       "    </tr>\n",
       "  </thead>\n",
       "  <tbody>\n",
       "    <tr>\n",
       "      <th>PTH22</th>\n",
       "      <th>R540</th>\n",
       "      <th>PATH NEW WTC</th>\n",
       "      <td>1837190.0</td>\n",
       "    </tr>\n",
       "    <tr>\n",
       "      <th>R238</th>\n",
       "      <th>R046</th>\n",
       "      <th>GRD CNTRL-42 ST</th>\n",
       "      <td>1329322.0</td>\n",
       "    </tr>\n",
       "    <tr>\n",
       "      <th>R533</th>\n",
       "      <th>R055</th>\n",
       "      <th>FLUSHING-MAIN</th>\n",
       "      <td>1264236.0</td>\n",
       "    </tr>\n",
       "    <tr>\n",
       "      <th>N324</th>\n",
       "      <th>R018</th>\n",
       "      <th>JKSN HT-ROOSVLT</th>\n",
       "      <td>1179273.0</td>\n",
       "    </tr>\n",
       "    <tr>\n",
       "      <th>R138</th>\n",
       "      <th>R293</th>\n",
       "      <th>34 ST-PENN STA</th>\n",
       "      <td>1149160.0</td>\n",
       "    </tr>\n",
       "    <tr>\n",
       "      <th>...</th>\n",
       "      <th>...</th>\n",
       "      <th>...</th>\n",
       "      <td>...</td>\n",
       "    </tr>\n",
       "    <tr>\n",
       "      <th>R407</th>\n",
       "      <th>R448</th>\n",
       "      <th>E 143/ST MARY'S</th>\n",
       "      <td>5405.0</td>\n",
       "    </tr>\n",
       "    <tr>\n",
       "      <th>R108A</th>\n",
       "      <th>R305</th>\n",
       "      <th>CORTLANDT ST</th>\n",
       "      <td>2194.0</td>\n",
       "    </tr>\n",
       "    <tr>\n",
       "      <th>R106</th>\n",
       "      <th>R305</th>\n",
       "      <th>CORTLANDT ST</th>\n",
       "      <td>1189.0</td>\n",
       "    </tr>\n",
       "    <tr>\n",
       "      <th>OB01</th>\n",
       "      <th>R459</th>\n",
       "      <th>ORCHARD BEACH</th>\n",
       "      <td>1010.0</td>\n",
       "    </tr>\n",
       "    <tr>\n",
       "      <th>N016A</th>\n",
       "      <th>R296</th>\n",
       "      <th>163 ST-AMSTERDM</th>\n",
       "      <td>32.0</td>\n",
       "    </tr>\n",
       "  </tbody>\n",
       "</table>\n",
       "<p>730 rows × 1 columns</p>\n",
       "</div>"
      ],
      "text/plain": [
       "                            riders_in\n",
       "C/A   UNIT STATION                   \n",
       "PTH22 R540 PATH NEW WTC     1837190.0\n",
       "R238  R046 GRD CNTRL-42 ST  1329322.0\n",
       "R533  R055 FLUSHING-MAIN    1264236.0\n",
       "N324  R018 JKSN HT-ROOSVLT  1179273.0\n",
       "R138  R293 34 ST-PENN STA   1149160.0\n",
       "...                               ...\n",
       "R407  R448 E 143/ST MARY'S     5405.0\n",
       "R108A R305 CORTLANDT ST        2194.0\n",
       "R106  R305 CORTLANDT ST        1189.0\n",
       "OB01  R459 ORCHARD BEACH       1010.0\n",
       "N016A R296 163 ST-AMSTERDM       32.0\n",
       "\n",
       "[730 rows x 1 columns]"
      ]
     },
     "execution_count": 15,
     "metadata": {},
     "output_type": "execute_result"
    }
   ],
   "source": [
    "by_date = pd.DataFrame(mta.groupby(['C/A','UNIT','STATION','date'])['riders_in'].sum().reset_index())\n",
    "by_combo = pd.DataFrame(by_date.groupby(['C/A','UNIT','STATION']).riders_in.sum().sort_values(ascending=False))\n",
    "by_combo"
   ]
  },
  {
   "cell_type": "markdown",
   "metadata": {},
   "source": [
    "### Challenge 6"
   ]
  },
  {
   "cell_type": "code",
   "execution_count": 16,
   "metadata": {},
   "outputs": [
    {
     "data": {
      "text/html": [
       "<div>\n",
       "<style scoped>\n",
       "    .dataframe tbody tr th:only-of-type {\n",
       "        vertical-align: middle;\n",
       "    }\n",
       "\n",
       "    .dataframe tbody tr th {\n",
       "        vertical-align: top;\n",
       "    }\n",
       "\n",
       "    .dataframe thead th {\n",
       "        text-align: right;\n",
       "    }\n",
       "</style>\n",
       "<table border=\"1\" class=\"dataframe\">\n",
       "  <thead>\n",
       "    <tr style=\"text-align: right;\">\n",
       "      <th></th>\n",
       "      <th>STATION</th>\n",
       "      <th>date</th>\n",
       "      <th>riders_in</th>\n",
       "    </tr>\n",
       "  </thead>\n",
       "  <tbody>\n",
       "    <tr>\n",
       "      <th>0</th>\n",
       "      <td>1 AV</td>\n",
       "      <td>2018-08-25</td>\n",
       "      <td>11388.0</td>\n",
       "    </tr>\n",
       "    <tr>\n",
       "      <th>1</th>\n",
       "      <td>1 AV</td>\n",
       "      <td>2018-08-26</td>\n",
       "      <td>13094.0</td>\n",
       "    </tr>\n",
       "    <tr>\n",
       "      <th>2</th>\n",
       "      <td>1 AV</td>\n",
       "      <td>2018-08-27</td>\n",
       "      <td>16700.0</td>\n",
       "    </tr>\n",
       "    <tr>\n",
       "      <th>3</th>\n",
       "      <td>1 AV</td>\n",
       "      <td>2018-08-28</td>\n",
       "      <td>17693.0</td>\n",
       "    </tr>\n",
       "    <tr>\n",
       "      <th>4</th>\n",
       "      <td>1 AV</td>\n",
       "      <td>2018-08-29</td>\n",
       "      <td>18353.0</td>\n",
       "    </tr>\n",
       "  </tbody>\n",
       "</table>\n",
       "</div>"
      ],
      "text/plain": [
       "  STATION        date  riders_in\n",
       "0    1 AV  2018-08-25    11388.0\n",
       "1    1 AV  2018-08-26    13094.0\n",
       "2    1 AV  2018-08-27    16700.0\n",
       "3    1 AV  2018-08-28    17693.0\n",
       "4    1 AV  2018-08-29    18353.0"
      ]
     },
     "execution_count": 16,
     "metadata": {},
     "output_type": "execute_result"
    }
   ],
   "source": [
    "by_station_date = pd.DataFrame(mta.groupby(['STATION','date']).riders_in.sum()).reset_index()\n",
    "by_station_date.head()"
   ]
  },
  {
   "cell_type": "markdown",
   "metadata": {},
   "source": [
    "### Challenge 7"
   ]
  },
  {
   "cell_type": "code",
   "execution_count": 17,
   "metadata": {},
   "outputs": [
    {
     "data": {
      "image/png": "[encoded data removed]",
      "text/plain": [
       "<Figure size 576x432 with 1 Axes>"
      ]
     },
     "metadata": {},
     "output_type": "display_data"
    }
   ],
   "source": [
    "av1 = by_station_date[by_station_date.STATION=='1 AV']\n",
    "\n",
    "plt.figure(figsize=(8,6))\n",
    "plt.plot(av1.date,av1.riders_in)\n",
    "plt.xticks(rotation='vertical')\n",
    "plt.ylim(0,25000)\n",
    "plt.xlabel('Date')\n",
    "plt.ylabel('Passengers')\n",
    "plt.title('Daily Passengers in 1st Ave Station');"
   ]
  },
  {
   "cell_type": "markdown",
   "metadata": {},
   "source": [
    "### Challenge 8"
   ]
  },
  {
   "cell_type": "code",
   "execution_count": 21,
   "metadata": {},
   "outputs": [
    {
     "data": {
      "image/png": "[encoded data removed]",
      "text/plain": [
       "<Figure size 720x360 with 1 Axes>"
      ]
     },
     "metadata": {},
     "output_type": "display_data"
    }
   ],
   "source": [
    "mta['day_of_week'] = mta.datetime.dt.dayofweek.map(\n",
    "        {0:'M',1:'Tu',2:'W',3:'Th',4:'F',5:'Sa',6:'Su'})\n",
    "mta['date'] = mta.datetime.dt.date\n",
    "import datetime\n",
    "\n",
    "by_weekday = pd.DataFrame(mta.groupby(['STATION','day_of_week','date']).riders_in.sum()).reset_index()\n",
    "\n",
    "grand_central = by_weekday[by_weekday.STATION=='GRD CNTRL-42 ST'].sort_values(by='date').reset_index().head(7)\n",
    "times_sq = by_weekday[by_weekday.STATION=='TIMES SQ-42 ST'].sort_values(by='date').reset_index().head(7)\n",
    "port = by_weekday[by_weekday.STATION=='42 ST-PORT AUTH'].sort_values(by='date').reset_index().head(7)\n",
    "st14 = by_weekday[by_weekday.STATION=='14 ST'].sort_values(by='date').reset_index().head(7)\n",
    "\n",
    "l = [grand_central,times_sq,port,st14]\n",
    "plt.figure(figsize=(10,5))\n",
    "plt.xlabel('Day of Week')\n",
    "plt.ylabel('Passengers')\n",
    "plt.ylim(0,160000)\n",
    "for station in l:\n",
    "    plt.plot(station.day_of_week,station.riders_in,label=station.STATION.iloc[1])\n",
    "plt.legend();"
   ]
  },
  {
   "cell_type": "markdown",
   "metadata": {},
   "source": [
    "### Challenge 9"
   ]
  },
  {
   "cell_type": "code",
   "execution_count": 22,
   "metadata": {},
   "outputs": [
    {
     "data": {
      "text/html": [
       "<div>\n",
       "<style scoped>\n",
       "    .dataframe tbody tr th:only-of-type {\n",
       "        vertical-align: middle;\n",
       "    }\n",
       "\n",
       "    .dataframe tbody tr th {\n",
       "        vertical-align: top;\n",
       "    }\n",
       "\n",
       "    .dataframe thead th {\n",
       "        text-align: right;\n",
       "    }\n",
       "</style>\n",
       "<table border=\"1\" class=\"dataframe\">\n",
       "  <thead>\n",
       "    <tr style=\"text-align: right;\">\n",
       "      <th></th>\n",
       "      <th>STATION</th>\n",
       "      <th>riders_in</th>\n",
       "    </tr>\n",
       "  </thead>\n",
       "  <tbody>\n",
       "    <tr>\n",
       "      <th>0</th>\n",
       "      <td>34 ST-PENN STA</td>\n",
       "      <td>4758125.0</td>\n",
       "    </tr>\n",
       "    <tr>\n",
       "      <th>1</th>\n",
       "      <td>GRD CNTRL-42 ST</td>\n",
       "      <td>4112633.0</td>\n",
       "    </tr>\n",
       "    <tr>\n",
       "      <th>2</th>\n",
       "      <td>34 ST-HERALD SQ</td>\n",
       "      <td>3157494.0</td>\n",
       "    </tr>\n",
       "    <tr>\n",
       "      <th>3</th>\n",
       "      <td>14 ST-UNION SQ</td>\n",
       "      <td>3105756.0</td>\n",
       "    </tr>\n",
       "    <tr>\n",
       "      <th>4</th>\n",
       "      <td>23 ST</td>\n",
       "      <td>3054459.0</td>\n",
       "    </tr>\n",
       "  </tbody>\n",
       "</table>\n",
       "</div>"
      ],
      "text/plain": [
       "           STATION  riders_in\n",
       "0   34 ST-PENN STA  4758125.0\n",
       "1  GRD CNTRL-42 ST  4112633.0\n",
       "2  34 ST-HERALD SQ  3157494.0\n",
       "3   14 ST-UNION SQ  3105756.0\n",
       "4            23 ST  3054459.0"
      ]
     },
     "execution_count": 22,
     "metadata": {},
     "output_type": "execute_result"
    }
   ],
   "source": [
    "total_riders = pd.DataFrame(mta.groupby('STATION').riders_in.sum()).sort_values(by='riders_in',ascending=False).reset_index()\n",
    "total_riders.head()"
   ]
  },
  {
   "cell_type": "markdown",
   "metadata": {},
   "source": [
    "### Challenge 10"
   ]
  },
  {
   "cell_type": "code",
   "execution_count": 24,
   "metadata": {},
   "outputs": [
    {
     "data": {
      "image/png": "[encoded data removed]",
      "text/plain": [
       "<Figure size 432x288 with 1 Axes>"
      ]
     },
     "metadata": {},
     "output_type": "display_data"
    }
   ],
   "source": [
    "plt.hist(total_riders.riders_in);"
   ]
  },
  {
   "cell_type": "code",
   "execution_count": null,
   "metadata": {},
   "outputs": [],
   "source": []
  }
 ],
 "metadata": {
  "kernelspec": {
   "display_name": "Python 3",
   "language": "python",
   "name": "python3"
  },
  "language_info": {
   "codemirror_mode": {
    "name": "ipython",
    "version": 3
   },
   "file_extension": ".py",
   "mimetype": "text/x-python",
   "name": "python",
   "nbconvert_exporter": "python",
   "pygments_lexer": "ipython3",
   "version": "3.8.2"
  }
 },
 "nbformat": 4,
 "nbformat_minor": 4
}
